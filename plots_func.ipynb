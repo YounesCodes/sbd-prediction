{
 "cells": [
  {
   "cell_type": "code",
   "execution_count": 33,
   "id": "3fedb682-dc78-4903-9b99-f04cdc36217b",
   "metadata": {},
   "outputs": [],
   "source": [
    "import numpy as np\n",
    "import pandas as pd\n",
    "import matplotlib.pyplot as plt\n",
    "import seaborn as sns"
   ]
  },
  {
   "cell_type": "code",
   "execution_count": 8,
   "id": "22b01353-7b74-4612-acfb-446279461687",
   "metadata": {},
   "outputs": [],
   "source": [
    "def weight_classes_count(sex,df):\n",
    "    male_wcs = ['53','59','66','74','83','93','105','120','120+']\n",
    "    female_wcs = ['43','47','52','57','63','69','72','76','84','84+']\n",
    "    if sex == 'M':\n",
    "        filtered_df = df[df['WeightClassKg'].isin(male_wcs)]\n",
    "        unique_athletes = filtered_df[filtered_df['Sex'] == sex].drop_duplicates(subset=['Name', 'WeightClassKg'])\n",
    "        plt.figure(figsize=(20,10))\n",
    "    elif sex == 'F':\n",
    "        filtered_df = df[df['WeightClassKg'].isin(female_wcs)]\n",
    "        unique_athletes = filtered_df[filtered_df['Sex'] == sex].drop_duplicates(subset=['Name', 'WeightClassKg'])\n",
    "        plt.figure(figsize=(20,10))\n",
    "    unique_athletes['WeightClassKg'] = pd.Categorical(\n",
    "        unique_athletes['WeightClassKg'], \n",
    "        categories=(male_wcs if sex == 'M' else female_wcs), \n",
    "        ordered=True\n",
    "    )\n",
    "    return sns.countplot(x='WeightClassKg',data = unique_athletes.sort_values(by='WeightClassKg'))"
   ]
  },
  {
   "cell_type": "code",
   "execution_count": 11,
   "id": "4fc10231-35e8-4b05-9c1c-4bafc92ebdcf",
   "metadata": {},
   "outputs": [],
   "source": [
    "def lifter_profile(name,df):\n",
    "    lifter = df[df['Name'] == name]\n",
    "    division = 0\n",
    "    if lifter['Age'].max() <= 18:\n",
    "        division = 'Sub-Junior'\n",
    "    elif lifter['Age'].max() <= 23:\n",
    "        division = 'Junior'\n",
    "    else:\n",
    "        division = 'Open'\n",
    "    \n",
    "    dict = {\n",
    "        'name': name,\n",
    "        'sex': lifter['Sex'].iloc[0],\n",
    "        'division': division,\n",
    "        'weight classes': lifter['WeightClassKg'].dropna().unique().tolist(),\n",
    "        'best_squat':lifter['Best3SquatKg'].max() ,\n",
    "        'best_bench':lifter['Best3BenchKg'].max() ,\n",
    "        'best_deadlift':lifter['Best3DeadliftKg'].max(),\n",
    "        'best_total':lifter['TotalKg'].max()\n",
    "    \n",
    "    }\n",
    "    return dict"
   ]
  },
  {
   "cell_type": "code",
   "execution_count": 13,
   "id": "3063afdf-0132-4a3f-86ff-d39996ee66c1",
   "metadata": {},
   "outputs": [],
   "source": [
    "def plot_lift_evolution(name,lift,df):\n",
    "    if lift == 'squat':\n",
    "        squat_yearly_best = df[df['Name'] == name].groupby('Year')['Best3SquatKg'].max().reset_index()\n",
    "        plt.plot(squat_yearly_best['Year'],squat_yearly_best['Best3SquatKg'])\n",
    "        plt.title(f\"{name}'s Squat Progression Over the Years\")  \n",
    "        plt.xlabel('Year')\n",
    "        plt.ylabel('Squat (kg)')\n",
    "        plt.grid(True)\n",
    "        return plt\n",
    "    elif lift == 'bench':\n",
    "        bench_yearly_best = df[df['Name'] == name].groupby('Year')['Best3BenchKg'].max().reset_index()\n",
    "        plt.plot(bench_yearly_best['Year'],bench_yearly_best['Best3BenchKg'])\n",
    "        plt.title(f\"{name}'s Bench Progression Over the Years\")  \n",
    "        plt.xlabel('Year')\n",
    "        plt.ylabel('Bench (kg)')\n",
    "        plt.grid(True)\n",
    "        return plt\n",
    "    elif lift == 'deadlift':   \n",
    "        deadlift_yearly_best = df[df['Name'] == name].groupby('Year')['Best3DeadliftKg'].max().reset_index()\n",
    "        plt.plot(deadlift_yearly_best['Year'],deadlift_yearly_best['Best3DeadliftKg'])\n",
    "        plt.title(f\"{name}'s Deadlift Progression Over the Years\")  \n",
    "        plt.xlabel('Year')\n",
    "        plt.ylabel('Deadlift (kg)')\n",
    "        plt.grid(True)\n",
    "        return plt\n",
    "    \n",
    "    "
   ]
  },
  {
   "cell_type": "code",
   "execution_count": 17,
   "id": "e63841ea-d9a6-41b3-a4f3-fb71f1f3743c",
   "metadata": {},
   "outputs": [],
   "source": [
    "def plot_total_evolution(name):\n",
    "    total_yearly_best = df[df['Name'] == name].groupby('Year')['TotalKg'].max().reset_index()\n",
    "    plt.plot(total_yearly_best['Year'],total_yearly_best['TotalKg'])\n",
    "    plt.title(f\"{name}'s Total Progression Over the Years\")  \n",
    "    plt.xlabel('Year')\n",
    "    plt.ylabel('Total (kg)')\n",
    "    plt.grid(True)\n",
    "    return plt"
   ]
  },
  {
   "cell_type": "code",
   "execution_count": 19,
   "id": "98b9b76b-5ac9-4e4d-aa27-37cc1367e9c8",
   "metadata": {},
   "outputs": [],
   "source": [
    "def best_year_lifts(name):\n",
    "    records = df_final[df_final['Name'] == name]\n",
    "    sq_bests = records.groupby('Year')['Best3SquatKg'].max().reset_index()\n",
    "    bnch_bests = records.groupby('Year')['Best3BenchKg'].max().reset_index()\n",
    "    dl_bests = records.groupby('Year')['Best3DeadliftKg'].max().reset_index()\n",
    "    total_bests = records.groupby('Year')['TotalKg'].max().reset_index()\n",
    "    merged_bests = sq_bests.merge(bnch_bests, on='Year', how='outer').merge(dl_bests, on='Year', how='outer').merge(total_bests, on='Year', how='outer')\n",
    "    return merged_bests"
   ]
  },
  {
   "cell_type": "code",
   "execution_count": 21,
   "id": "4da7537e-9041-42ee-9c05-b503e8390229",
   "metadata": {},
   "outputs": [],
   "source": [
    "def open_world_records(sex,w_class,df):\n",
    "    # sex and weightclass passed as arguments should be in string format e.g: 'F','M';'66','120+'...\n",
    "    athletes = df[(df['Sex'] == sex) & (df['WeightClassKg'] == w_class)]\n",
    "    world_records = athletes[['Best3SquatKg','Best3BenchKg','Best3DeadliftKg','TotalKg']].max()\n",
    "    wr_indices = athletes[['Best3SquatKg', 'Best3BenchKg', 'Best3DeadliftKg', 'TotalKg']].idxmax()\n",
    "    wr_holders = athletes.loc[wr_indices, ['Name', 'Year', 'MeetName']]\n",
    "    wr_holders['Lift in kg'] = world_records.values\n",
    "    wr_holders.index = ['Squat WR','Bench WR','Deadlift WR','Total WR']\n",
    "    return wr_holders\n"
   ]
  },
  {
   "cell_type": "code",
   "execution_count": 48,
   "id": "9764a83c-9ca9-4709-9600-a7234847ae12",
   "metadata": {},
   "outputs": [],
   "source": [
    "def get_avg_weight_class_total(weight_class,df):\n",
    "    totals = df[df['WeightClassKg'] == weight_class]\n",
    "    best_totals = totals.sort_values(by='TotalKg', ascending=False).drop_duplicates(subset='Name')\n",
    "    avg_total = best_totals['TotalKg'].mean()\n",
    "    return avg_total\n",
    "    \n",
    "    "
   ]
  },
  {
   "cell_type": "code",
   "execution_count": 25,
   "id": "044396ae-8eb0-4677-b864-59e5c9da2e55",
   "metadata": {},
   "outputs": [],
   "source": [
    "def compute_competition_years(df):\n",
    "    # Group by 'Name' and count the number of unique years each athlete has competed in\n",
    "    athlete_years = df.groupby('Name')['Year'].nunique().reset_index()\n",
    "    athlete_years.columns = ['Name', 'YearsCompeted']\n",
    "    \n",
    "    return athlete_years"
   ]
  },
  {
   "cell_type": "code",
   "execution_count": null,
   "id": "cf7cc8d4-5d26-4f76-953c-b4cca9ce4b55",
   "metadata": {},
   "outputs": [],
   "source": []
  }
 ],
 "metadata": {
  "kernelspec": {
   "display_name": "Python 3 (ipykernel)",
   "language": "python",
   "name": "python3"
  },
  "language_info": {
   "codemirror_mode": {
    "name": "ipython",
    "version": 3
   },
   "file_extension": ".py",
   "mimetype": "text/x-python",
   "name": "python",
   "nbconvert_exporter": "python",
   "pygments_lexer": "ipython3",
   "version": "3.11.7"
  }
 },
 "nbformat": 4,
 "nbformat_minor": 5
}
